{
  "cells": [
    {
      "cell_type": "code",
      "execution_count": 1,
      "metadata": {
        "_cell_guid": "b1076dfc-b9ad-4769-8c92-a6c4dae69d19",
        "_uuid": "8f2839f25d086af736a60e9eeb907d3b93b6e0e5",
        "execution": {
          "iopub.execute_input": "2025-02-04T09:44:45.107509Z",
          "iopub.status.busy": "2025-02-04T09:44:45.107204Z",
          "iopub.status.idle": "2025-02-04T09:44:50.414166Z",
          "shell.execute_reply": "2025-02-04T09:44:50.413465Z",
          "shell.execute_reply.started": "2025-02-04T09:44:45.107486Z"
        },
        "id": "C1uiGnSiAbAI",
        "trusted": true
      },
      "outputs": [],
      "source": [
        "import torch\n",
        "import torch.nn as nn\n",
        "import torchvision\n",
        "from torchvision import transforms\n",
        "from torch.utils.data import DataLoader, Subset, random_split\n",
        "import numpy as np\n",
        "\n",
        "# set seed\n",
        "torch.manual_seed(54)\n",
        "torch.cuda.manual_seed(54)"
      ]
    },
    {
      "cell_type": "code",
      "execution_count": 2,
      "metadata": {
        "colab": {
          "base_uri": "https://localhost:8080/"
        },
        "execution": {
          "iopub.execute_input": "2025-02-04T09:44:50.415489Z",
          "iopub.status.busy": "2025-02-04T09:44:50.415189Z",
          "iopub.status.idle": "2025-02-04T09:44:56.271321Z",
          "shell.execute_reply": "2025-02-04T09:44:56.270638Z",
          "shell.execute_reply.started": "2025-02-04T09:44:50.415470Z"
        },
        "id": "8l2BlxjvAbAN",
        "outputId": "7bf33527-f560-4089-8f02-7dacb97afca4",
        "trusted": true
      },
      "outputs": [
        {
          "name": "stdout",
          "output_type": "stream",
          "text": [
            "Downloading https://www.cs.toronto.edu/~kriz/cifar-10-python.tar.gz to ./data/cifar-10-python.tar.gz\n"
          ]
        },
        {
          "name": "stderr",
          "output_type": "stream",
          "text": [
            "100%|██████████| 170M/170M [00:05<00:00, 32.8MB/s]\n"
          ]
        },
        {
          "name": "stdout",
          "output_type": "stream",
          "text": [
            "Extracting ./data/cifar-10-python.tar.gz to ./data\n",
            "Train data size: 3200 images, Test data size: 800 images\n"
          ]
        }
      ],
      "source": [
        "BATCH_SIZE = 64\n",
        "NUM_WORKERS = 2\n",
        "\n",
        "# extracting a small subset of the CIFAR10 dataset\n",
        "# about subset: 1000 images for each of 4 classes namely: airplane, automobile, bird, cat\n",
        "# 4000 images in total\n",
        "# 80% train and 20% test\n",
        "# why subset: gpu poor :(\n",
        "\n",
        "classes = {'airplane':0, 'automobile':1, 'bird':2, 'cat':3}\n",
        "img_per_class = 1000\n",
        "\n",
        "# transforms\n",
        "train_transform = transforms.Compose([\n",
        "    transforms.Resize((224,224)),\n",
        "    transforms.RandomHorizontalFlip(),\n",
        "    transforms.ToTensor(),\n",
        "    transforms.Normalize(mean=(0.5,0.5,0.5),std=(0.5,0.5,0.5))\n",
        "])\n",
        "\n",
        "test_transform = transforms.Compose([\n",
        "    transforms.Resize((224,224)),\n",
        "    transforms.ToTensor(),\n",
        "    transforms.Normalize(mean=(0.5,0.5,0.5),std=(0.5,0.5,0.5))\n",
        "])\n",
        "\n",
        "\n",
        "# load data\n",
        "dataset = torchvision.datasets.CIFAR10(root='./data',\n",
        "                                          train=True,\n",
        "                                          download=True,\n",
        "                                          transform=test_transform)\n",
        "\n",
        "# class indices\n",
        "class_indices = {k:[] for k in classes.values()}\n",
        "\n",
        "for idx, (img, label) in enumerate(dataset):\n",
        "    if label in class_indices and len(class_indices[label]) < img_per_class:\n",
        "        class_indices[label].append(idx)\n",
        "\n",
        "    if all(len(num_indices)== img_per_class for num_indices in class_indices.values()):\n",
        "        break\n",
        "\n",
        "# create subset\n",
        "total_indices = sum(class_indices.values(),[])\n",
        "subset_dataset = Subset(dataset, total_indices)\n",
        "\n",
        "# train and test split\n",
        "train_size = int(0.8 * len(subset_dataset))\n",
        "test_size = len(subset_dataset) - train_size\n",
        "train_data, test_data = random_split(subset_dataset, [train_size, test_size])\n",
        "\n",
        "# apply transform to test set separately\n",
        "train_data.dataset.transform = train_transform\n",
        "\n",
        "\n",
        "train_loader = DataLoader(train_data, batch_size = BATCH_SIZE, shuffle = True, num_workers = NUM_WORKERS)\n",
        "test_loader = DataLoader(test_data, batch_size = BATCH_SIZE, shuffle = False, num_workers = NUM_WORKERS)\n",
        "\n",
        "print(f'Train data size: {len(train_data)} images, Test data size: {len(test_data)} images')\n"
      ]
    },
    {
      "cell_type": "code",
      "execution_count": 3,
      "metadata": {
        "colab": {
          "base_uri": "https://localhost:8080/"
        },
        "execution": {
          "iopub.execute_input": "2025-02-04T09:44:56.273106Z",
          "iopub.status.busy": "2025-02-04T09:44:56.272832Z",
          "iopub.status.idle": "2025-02-04T09:44:56.279057Z",
          "shell.execute_reply": "2025-02-04T09:44:56.278277Z",
          "shell.execute_reply.started": "2025-02-04T09:44:56.273083Z"
        },
        "id": "9U0D-S17AbAP",
        "outputId": "adc952d4-70e5-4111-ffbe-6c80248f2bea",
        "trusted": true
      },
      "outputs": [
        {
          "data": {
            "text/plain": [
              "(<torch.utils.data.dataloader.DataLoader at 0x7f87237f1c50>,\n",
              " <torch.utils.data.dataloader.DataLoader at 0x7f871baec050>)"
            ]
          },
          "execution_count": 3,
          "metadata": {},
          "output_type": "execute_result"
        }
      ],
      "source": [
        "train_loader, test_loader"
      ]
    },
    {
      "cell_type": "code",
      "execution_count": 4,
      "metadata": {
        "execution": {
          "iopub.execute_input": "2025-02-04T09:44:56.280454Z",
          "iopub.status.busy": "2025-02-04T09:44:56.280146Z",
          "iopub.status.idle": "2025-02-04T09:44:56.292969Z",
          "shell.execute_reply": "2025-02-04T09:44:56.292269Z",
          "shell.execute_reply.started": "2025-02-04T09:44:56.280419Z"
        },
        "id": "wOgNxb9iAbAQ",
        "trusted": true
      },
      "outputs": [],
      "source": [
        "# patch embedding\n",
        "\n",
        "class PatchEmbedding(nn.Module):\n",
        "    def __init__(self,\n",
        "                img_size=224,\n",
        "                patch_size = 16,\n",
        "                in_channels = 3,\n",
        "                embedding_dim = 768):\n",
        "        super().__init__()\n",
        "        self.img_size = img_size\n",
        "        self.patch_size = patch_size\n",
        "\n",
        "        self.num_patches = (img_size//patch_size)**2\n",
        "\n",
        "        # 1. images -> patches -> linear proj on each patch\n",
        "        self.proj = nn.Conv2d(in_channels = in_channels,\n",
        "                             out_channels = embedding_dim,\n",
        "                             kernel_size = patch_size,\n",
        "                             stride = patch_size,\n",
        "                             padding=0)\n",
        "        self.flatten = nn.Flatten(2,3)\n",
        "        # 2. adding cls(class) token\n",
        "        self.cls_token = nn.Parameter(torch.randn(1,1,embedding_dim),\n",
        "                                     requires_grad= True) # by default-> true\n",
        "        # 3. positional embedding\n",
        "        self.pos_embedding = nn.Parameter(torch.randn(1, self.num_patches+1,embedding_dim),\n",
        "                                         requires_grad= True)\n",
        "\n",
        "    def forward(self, x):\n",
        "\n",
        "        x = self.proj(x)\n",
        "        x = x.flatten(2,3)\n",
        "        x = x.transpose(1,2)\n",
        "        # print(f'Patched image shape: {x.shape}')\n",
        "\n",
        "        batch_size = x.shape[0]\n",
        "        cls_token = self.cls_token.expand(batch_size, -1,-1)\n",
        "\n",
        "        # prepend cls token\n",
        "        x = torch.cat((cls_token, x), dim=1)\n",
        "        # print(f'patch embedding with cls token shape: {x.shape}')\n",
        "\n",
        "        # add pos\n",
        "        x = x + self.pos_embedding\n",
        "        # print(f'patch + cls + pos shape: {x.shape}')\n",
        "        return x\n"
      ]
    },
    {
      "cell_type": "code",
      "execution_count": 5,
      "metadata": {
        "colab": {
          "base_uri": "https://localhost:8080/"
        },
        "execution": {
          "iopub.execute_input": "2025-02-04T09:44:56.294209Z",
          "iopub.status.busy": "2025-02-04T09:44:56.293879Z",
          "iopub.status.idle": "2025-02-04T09:44:57.063130Z",
          "shell.execute_reply": "2025-02-04T09:44:57.062075Z",
          "shell.execute_reply.started": "2025-02-04T09:44:56.294179Z"
        },
        "id": "uwgZ8Z5vAbAS",
        "outputId": "59e3863f-2746-4afb-8f38-5690cd364d88",
        "trusted": true
      },
      "outputs": [
        {
          "name": "stdout",
          "output_type": "stream",
          "text": [
            "Input image shape: torch.Size([3, 224, 224])\n",
            "Input image shape after adding batch dim: torch.Size([1, 3, 224, 224])\n"
          ]
        }
      ],
      "source": [
        "# get an image from train dataloader for debugging\n",
        "\n",
        "batch_img, batch_label = next(iter(train_loader))\n",
        "\n",
        "# single img\n",
        "img, label = batch_img[0], batch_label[0]\n",
        "print(f'Input image shape: {img.shape}')\n",
        "\n",
        "\n",
        "patchin = PatchEmbedding(img_size=224,\n",
        "                        patch_size = 16,\n",
        "                        in_channels = 3,\n",
        "                        embedding_dim = 768)\n",
        "# add batch dim\n",
        "img = img.unsqueeze(0)\n",
        "print(f'Input image shape after adding batch dim: {img.shape}')\n",
        "\n",
        "output_from_patch_embedding = patchin(img)"
      ]
    },
    {
      "cell_type": "code",
      "execution_count": 6,
      "metadata": {
        "colab": {
          "base_uri": "https://localhost:8080/",
          "height": 331
        },
        "execution": {
          "iopub.execute_input": "2025-02-04T09:44:57.064645Z",
          "iopub.status.busy": "2025-02-04T09:44:57.064364Z",
          "iopub.status.idle": "2025-02-04T09:44:57.309617Z",
          "shell.execute_reply": "2025-02-04T09:44:57.308760Z",
          "shell.execute_reply.started": "2025-02-04T09:44:57.064621Z"
        },
        "id": "dZtCUdLQAbAU",
        "outputId": "97894631-ea9e-48b3-f992-6e7abc445eb9",
        "trusted": true
      },
      "outputs": [
        {
          "name": "stderr",
          "output_type": "stream",
          "text": [
            "WARNING:matplotlib.image:Clipping input data to the valid range for imshow with RGB data ([0..1] for floats or [0..255] for integers). Got range [-0.85882354..1.0].\n"
          ]
        },
        {
          "name": "stdout",
          "output_type": "stream",
          "text": [
            "tensor(0)\n"
          ]
        },
        {
          "data": {
            "image/png": "[encoded data removed]",
            "text/plain": [
              "<Figure size 600x300 with 1 Axes>"
            ]
          },
          "metadata": {},
          "output_type": "display_data"
        }
      ],
      "source": [
        "import matplotlib.pyplot as plt\n",
        "# plot\n",
        "img_ = img.squeeze(0)\n",
        "img_ = img_.permute(1,2,0)\n",
        "\n",
        "plt.figure(figsize = (6,3))\n",
        "plt.imshow(img_);\n",
        "print(label)"
      ]
    },
    {
      "cell_type": "markdown",
      "metadata": {
        "id": "rpi2xiBbAbAV"
      },
      "source": [
        "inspiration from [code](https://uvadlc-notebooks.readthedocs.io/en/latest/tutorial_notebooks/tutorial6/Transformers_and_MHAttention.html)"
      ]
    },
    {
      "cell_type": "code",
      "execution_count": 7,
      "metadata": {
        "execution": {
          "iopub.execute_input": "2025-02-04T09:44:57.311035Z",
          "iopub.status.busy": "2025-02-04T09:44:57.310670Z",
          "iopub.status.idle": "2025-02-04T09:44:57.317719Z",
          "shell.execute_reply": "2025-02-04T09:44:57.316880Z",
          "shell.execute_reply.started": "2025-02-04T09:44:57.311003Z"
        },
        "id": "rNR9DOAQAbAX",
        "trusted": true
      },
      "outputs": [],
      "source": [
        "# multi head attention\n",
        "import math\n",
        "\n",
        "class MultiHeadAttention(nn.Module):\n",
        "    def __init__(self,\n",
        "                 embedding_dim = 768,\n",
        "                 num_heads = 12,\n",
        "                 dropout=0.1):\n",
        "        super().__init__()\n",
        "        self.embedding_dim = embedding_dim\n",
        "        self.num_heads = num_heads\n",
        "        self.head_dim =  embedding_dim // num_heads\n",
        "\n",
        "        self.qkv_proj = nn.Linear(embedding_dim, embedding_dim * 3)\n",
        "        self.attn_drop = nn.Dropout(dropout)\n",
        "        self.proj = nn.Linear(embedding_dim, embedding_dim)\n",
        "        self.proj_drop = nn.Dropout(dropout)\n",
        "\n",
        "    def forward(self, x):\n",
        "\n",
        "        # batch_size, num_patches+1, embedding_dim = x.shape\n",
        "        batch_size, num_patches, embedding_dim = x.shape\n",
        "        # print(f'input to multi head attention: {x.shape}')\n",
        "\n",
        "        qkv = self.qkv_proj(x).reshape(batch_size, num_patches, self.num_heads, 3*self.head_dim)\n",
        "        qkv = qkv.permute(0,2,1,3) # [batch_size, num_heads, num_patches, dim]\n",
        "        q,k,v = qkv.chunk(3, dim=-1)\n",
        "\n",
        "        # scaled dot-product\n",
        "        attn = (torch.matmul(q, k.transpose(-2,-1)))/ math.sqrt(self.head_dim)\n",
        "\n",
        "        attn = attn.softmax(dim=-1)\n",
        "        attn = self.attn_drop(attn)\n",
        "\n",
        "        x = torch.matmul(attn, v)\n",
        "        x = x.permute(0,2,1,3) # [batch_size, num_patches, num_heads, dim]\n",
        "        x = x.reshape(batch_size, num_patches, embedding_dim)\n",
        "        x = self.proj(x)\n",
        "        x = self.proj_drop(x)\n",
        "        return x\n"
      ]
    },
    {
      "cell_type": "code",
      "execution_count": 8,
      "metadata": {
        "colab": {
          "base_uri": "https://localhost:8080/"
        },
        "execution": {
          "iopub.execute_input": "2025-02-04T09:44:57.320602Z",
          "iopub.status.busy": "2025-02-04T09:44:57.320375Z",
          "iopub.status.idle": "2025-02-04T09:44:57.392882Z",
          "shell.execute_reply": "2025-02-04T09:44:57.392089Z",
          "shell.execute_reply.started": "2025-02-04T09:44:57.320583Z"
        },
        "id": "70UFXZSBAbAY",
        "outputId": "c2a65707-78be-4fb4-8cdd-325c16221cdb",
        "trusted": true
      },
      "outputs": [
        {
          "name": "stdout",
          "output_type": "stream",
          "text": [
            "output_from_multi_head_attention shape: torch.Size([1, 197, 768])\n"
          ]
        }
      ],
      "source": [
        "# a dummy forward pass\n",
        "attentionin = MultiHeadAttention(embedding_dim = 768,\n",
        "                                 num_heads = 12)\n",
        "\n",
        "output_from_multi_head_attention = attentionin(output_from_patch_embedding)\n",
        "print(f'output_from_multi_head_attention shape: {output_from_multi_head_attention.shape}')"
      ]
    },
    {
      "cell_type": "code",
      "execution_count": 9,
      "metadata": {
        "execution": {
          "iopub.execute_input": "2025-02-04T09:44:57.394467Z",
          "iopub.status.busy": "2025-02-04T09:44:57.394187Z",
          "iopub.status.idle": "2025-02-04T09:44:57.399083Z",
          "shell.execute_reply": "2025-02-04T09:44:57.398293Z",
          "shell.execute_reply.started": "2025-02-04T09:44:57.394445Z"
        },
        "id": "QZ_8QeetAbAY",
        "trusted": true
      },
      "outputs": [],
      "source": [
        "# MLP\n",
        "\n",
        "class MLP(nn.Module):\n",
        "    def __init__(self,\n",
        "                 embedding_dim=768,\n",
        "                 mlp_size=3072,\n",
        "                 dropout=0.):\n",
        "        super().__init__()\n",
        "        self.embedding_dim = embedding_dim\n",
        "        self.mlp_size = mlp_size\n",
        "\n",
        "        self.mlp = nn.Sequential(\n",
        "            nn.Linear(in_features= embedding_dim,\n",
        "                     out_features = mlp_size),\n",
        "            nn.GELU(),\n",
        "            nn.Dropout(p = dropout),\n",
        "            nn.Linear(in_features = mlp_size,\n",
        "                     out_features = embedding_dim),\n",
        "            nn.Dropout(p=dropout)\n",
        "        )\n",
        "\n",
        "    def forward(self, x):\n",
        "        x = self.mlp(x)\n",
        "        return x"
      ]
    },
    {
      "cell_type": "code",
      "execution_count": 10,
      "metadata": {
        "colab": {
          "base_uri": "https://localhost:8080/"
        },
        "execution": {
          "iopub.execute_input": "2025-02-04T09:44:57.400172Z",
          "iopub.status.busy": "2025-02-04T09:44:57.399836Z",
          "iopub.status.idle": "2025-02-04T09:44:57.494237Z",
          "shell.execute_reply": "2025-02-04T09:44:57.493502Z",
          "shell.execute_reply.started": "2025-02-04T09:44:57.400139Z"
        },
        "id": "DZbpzhzuAbAa",
        "outputId": "caae4fb8-0338-4e47-be2d-e3eb753158c5",
        "trusted": true
      },
      "outputs": [
        {
          "name": "stdout",
          "output_type": "stream",
          "text": [
            "Output through mlp layer shape: torch.Size([1, 197, 768])\n"
          ]
        }
      ],
      "source": [
        "mlpin = MLP(embedding_dim=768,\n",
        "            mlp_size=3072,\n",
        "            dropout= 0.1)\n",
        "\n",
        "output_through_mlp_layer = mlpin(output_from_multi_head_attention)\n",
        "print(f'Output through mlp layer shape: {output_through_mlp_layer.shape}')"
      ]
    },
    {
      "cell_type": "code",
      "execution_count": 11,
      "metadata": {
        "execution": {
          "iopub.execute_input": "2025-02-04T09:44:57.495192Z",
          "iopub.status.busy": "2025-02-04T09:44:57.494965Z",
          "iopub.status.idle": "2025-02-04T09:44:57.500870Z",
          "shell.execute_reply": "2025-02-04T09:44:57.500046Z",
          "shell.execute_reply.started": "2025-02-04T09:44:57.495172Z"
        },
        "id": "HoK6hqpnAbAb",
        "trusted": true
      },
      "outputs": [],
      "source": [
        "# TransformerBlock\n",
        "\n",
        "class TransformerBlock(nn.Module):\n",
        "    def __init__(self,\n",
        "               embedding_dim = 768,\n",
        "               num_heads = 12,\n",
        "               mlp_size=3072,\n",
        "               mlp_dropout = 0.1,\n",
        "               attn_dropout = 0.1):\n",
        "        super().__init__()\n",
        "        self.embedding_dim = embedding_dim\n",
        "        self.num_heads = num_heads\n",
        "        self.attn_dropout = attn_dropout\n",
        "        self.mlp_size = mlp_size\n",
        "        self.mlp_dropout = mlp_dropout\n",
        "\n",
        "\n",
        "        self.layer_norm1 = nn.LayerNorm(normalized_shape = embedding_dim)\n",
        "        self.attn = MultiHeadAttention(embedding_dim=embedding_dim,\n",
        "                                       num_heads=num_heads,\n",
        "                                       dropout = attn_dropout\n",
        "                                      )\n",
        "        self.layer_norm2 = nn.LayerNorm(embedding_dim)\n",
        "        self.mlp = MLP(embedding_dim=embedding_dim,\n",
        "                       mlp_size=mlp_size,\n",
        "                       dropout=mlp_dropout)\n",
        "\n",
        "\n",
        "    def forward(self,x):\n",
        "        # layer norm and attn with residual conn\n",
        "        x = x + self.attn(self.layer_norm1(x))\n",
        "\n",
        "        # layer norm and mlp with residual conn\n",
        "        x = x + self.mlp(self.layer_norm2(x))\n",
        "        return x"
      ]
    },
    {
      "cell_type": "code",
      "execution_count": 12,
      "metadata": {
        "execution": {
          "iopub.execute_input": "2025-02-04T09:44:57.502132Z",
          "iopub.status.busy": "2025-02-04T09:44:57.501842Z",
          "iopub.status.idle": "2025-02-04T09:44:57.518101Z",
          "shell.execute_reply": "2025-02-04T09:44:57.517319Z",
          "shell.execute_reply.started": "2025-02-04T09:44:57.502100Z"
        },
        "id": "z341GC5lAbAc",
        "trusted": true
      },
      "outputs": [],
      "source": [
        "# ViT\n",
        "\n",
        "class ViT(nn.Module):\n",
        "    def __init__(self,\n",
        "                 img_size = 224,\n",
        "                 patch_size = 16,\n",
        "                 in_channels = 3,\n",
        "                 num_classes = 10,\n",
        "                 embedding_dim = 768,\n",
        "                 mlp_size = 3072,\n",
        "                 num_heads = 12,\n",
        "                 attn_dropout = 0.1,\n",
        "                 mlp_dropout = 0.1,\n",
        "                 num_transformer_layer = 12):\n",
        "        super().__init__()\n",
        "\n",
        "        # patch embedding\n",
        "        self.patch_embed = PatchEmbedding(\n",
        "            img_size = img_size,\n",
        "            patch_size = patch_size,\n",
        "            in_channels = in_channels,\n",
        "            embedding_dim = embedding_dim\n",
        "        )\n",
        "\n",
        "        # transformer encoder\n",
        "        self.transformer_encoder = nn.Sequential(*[\n",
        "            TransformerBlock(embedding_dim = embedding_dim,\n",
        "                            num_heads = num_heads,\n",
        "                            mlp_size = mlp_size,\n",
        "                            mlp_dropout = mlp_dropout)\n",
        "            for _ in range(num_transformer_layer)\n",
        "        ])\n",
        "\n",
        "        # classifier head\n",
        "        self.classifier = nn.Sequential(\n",
        "            nn.LayerNorm(normalized_shape=embedding_dim),\n",
        "            nn.Linear(in_features=embedding_dim,\n",
        "                      out_features=num_classes)\n",
        "        )\n",
        "\n",
        "    def forward(self, x):\n",
        "            x = self.patch_embed(x)\n",
        "            x = self.transformer_encoder(x)\n",
        "            x = self.classifier(x[:,0]) # only cls token\n",
        "            return x"
      ]
    },
    {
      "cell_type": "code",
      "execution_count": 13,
      "metadata": {
        "colab": {
          "base_uri": "https://localhost:8080/"
        },
        "execution": {
          "iopub.execute_input": "2025-02-04T09:44:57.519178Z",
          "iopub.status.busy": "2025-02-04T09:44:57.518942Z",
          "iopub.status.idle": "2025-02-04T09:44:58.594628Z",
          "shell.execute_reply": "2025-02-04T09:44:58.593717Z",
          "shell.execute_reply.started": "2025-02-04T09:44:57.519159Z"
        },
        "id": "B5GTDBkpAbAd",
        "outputId": "f75b1b3e-767f-4891-f367-374008cc20af",
        "trusted": true
      },
      "outputs": [
        {
          "data": {
            "text/plain": [
              "tensor([[-0.0289,  0.0800,  1.6291,  0.0314,  0.9988,  0.5826,  0.0831,  0.5338,\n",
              "          0.6111,  0.2284]], grad_fn=<AddmmBackward0>)"
            ]
          },
          "execution_count": 13,
          "metadata": {},
          "output_type": "execute_result"
        }
      ],
      "source": [
        "# pass img through the model\n",
        "\n",
        "vit = ViT()\n",
        "vit(img)"
      ]
    },
    {
      "cell_type": "markdown",
      "metadata": {
        "id": "84PRLQXNAbAd"
      },
      "source": [
        "Inspiration from [code](https://github.com/mrdbourke/pytorch-deep-learning/blob/main/going_modular/going_modular/engine.py)"
      ]
    },
    {
      "cell_type": "code",
      "execution_count": 14,
      "metadata": {
        "execution": {
          "iopub.execute_input": "2025-02-04T13:12:00.297101Z",
          "iopub.status.busy": "2025-02-04T13:12:00.296826Z",
          "iopub.status.idle": "2025-02-04T13:12:03.475774Z",
          "shell.execute_reply": "2025-02-04T13:12:03.475138Z",
          "shell.execute_reply.started": "2025-02-04T13:12:00.297079Z"
        },
        "id": "ZDknKUTLAbAe",
        "trusted": true
      },
      "outputs": [],
      "source": [
        "from tqdm.auto import tqdm\n",
        "import torch\n",
        "\n",
        "def train_step(model, dataloader, loss_fn, optimizer,\n",
        "              device):\n",
        "\n",
        "    model.train()\n",
        "\n",
        "    train_loss, train_acc = 0,0\n",
        "\n",
        "    for batch, (X, y) in enumerate(dataloader):\n",
        "        X, y = X.to(device), y.to(device)\n",
        "\n",
        "        y_pred = model(X)\n",
        "\n",
        "        loss = loss_fn(y_pred, y)\n",
        "        train_loss += loss.item()\n",
        "\n",
        "        optimizer.zero_grad()\n",
        "        loss.backward()\n",
        "        optimizer.step()\n",
        "\n",
        "        y_pred_class = torch.argmax(torch.softmax(y_pred, dim=1), dim=1)\n",
        "        train_acc += ((y_pred_class== y).sum().item())/len(y_pred)\n",
        "\n",
        "    train_loss = train_loss/len(dataloader)\n",
        "    train_acc = train_acc/len(dataloader)\n",
        "    return train_loss, train_acc\n",
        "\n",
        "\n",
        "def test_step(model, dataloader, loss_fn, device):\n",
        "\n",
        "    model.eval()\n",
        "\n",
        "    test_loss, test_acc = 0,0\n",
        "\n",
        "    with torch.inference_mode():\n",
        "        for batch, (X, y) in enumerate(dataloader):\n",
        "            X, y = X.to(device), y.to(device)\n",
        "\n",
        "            test_pred = model(X)\n",
        "\n",
        "            loss = loss_fn(test_pred, y)\n",
        "            test_loss += loss.item()\n",
        "\n",
        "            test_pred_label = torch.argmax(torch.softmax(test_pred, dim=1), dim=1)\n",
        "            test_acc += ((test_pred_label == y).sum().item())/len(test_pred_label)\n",
        "\n",
        "    test_loss = test_loss/len(dataloader)\n",
        "    test_acc = test_acc/len(dataloader)\n",
        "    return test_loss, test_acc\n",
        "\n",
        "\n",
        "def train(model,\n",
        "         train_dataloader,\n",
        "         test_dataloader,\n",
        "         optimizer,\n",
        "         loss_fn,\n",
        "         epochs,\n",
        "         device):\n",
        "    results = {'train_loss': [],\n",
        "              'train_acc': [],\n",
        "              'test_loss':[],\n",
        "              'test_acc':[]}\n",
        "\n",
        "\n",
        "    model.to(device)\n",
        "\n",
        "    for epoch in tqdm(range(epochs)):\n",
        "        train_loss, train_acc = train_step(model= model,\n",
        "                                          dataloader= train_dataloader,\n",
        "                                          loss_fn=loss_fn,\n",
        "                                          optimizer = optimizer,\n",
        "                                          device = device)\n",
        "        test_loss, test_acc = test_step(model=model,\n",
        "                                       dataloader= test_dataloader,\n",
        "                                       loss_fn = loss_fn,\n",
        "                                       device = device)\n",
        "\n",
        "        print(\n",
        "            f'epoch: {epoch+1} | '\n",
        "            f'train loss: {train_loss:.4f} | '\n",
        "            f'train acc: {train_acc:.4f} | '\n",
        "            f'test loss: {test_loss:.4f} | '\n",
        "            f'test acc: {test_acc:.4f} | '\n",
        "        )\n",
        "\n",
        "        results['train_loss'].append(train_loss)\n",
        "        results['train_acc'].append(train_acc)\n",
        "        results['test_loss'].append(test_loss)\n",
        "        results['test_acc'].append(test_acc)\n",
        "\n",
        "    return results"
      ]
    },
    {
      "cell_type": "code",
      "execution_count": 15,
      "metadata": {
        "colab": {
          "base_uri": "https://localhost:8080/",
          "height": 35
        },
        "execution": {
          "iopub.execute_input": "2025-02-04T13:12:04.135044Z",
          "iopub.status.busy": "2025-02-04T13:12:04.134643Z",
          "iopub.status.idle": "2025-02-04T13:12:04.147646Z",
          "shell.execute_reply": "2025-02-04T13:12:04.146598Z",
          "shell.execute_reply.started": "2025-02-04T13:12:04.135018Z"
        },
        "id": "azIzB1Q1AbAf",
        "outputId": "47d2270c-4342-428b-dac1-7c71d039d5f5",
        "trusted": true
      },
      "outputs": [
        {
          "data": {
            "application/vnd.google.colaboratory.intrinsic+json": {
              "type": "string"
            },
            "text/plain": [
              "'cuda'"
            ]
          },
          "execution_count": 15,
          "metadata": {},
          "output_type": "execute_result"
        }
      ],
      "source": [
        "loss_fn = torch.nn.CrossEntropyLoss()\n",
        "optimizer = torch.optim.Adam(params = vit.parameters(),\n",
        "                            lr=0.0003,\n",
        "                            betas = (0.9,0.99),\n",
        "                            weight_decay = 0.5)\n",
        "\n",
        "device = 'cuda' if torch.cuda.is_available() else 'cpu'\n",
        "device"
      ]
    },
    {
      "cell_type": "code",
      "execution_count": 16,
      "metadata": {
        "execution": {
          "iopub.execute_input": "2025-02-04T09:44:58.810098Z",
          "iopub.status.busy": "2025-02-04T09:44:58.809805Z",
          "iopub.status.idle": "2025-02-04T09:44:58.823969Z",
          "shell.execute_reply": "2025-02-04T09:44:58.823076Z",
          "shell.execute_reply.started": "2025-02-04T09:44:58.810077Z"
        },
        "id": "-QmScSoTAbAg",
        "trusted": true
      },
      "outputs": [],
      "source": [
        "# cuda out of memeory :/\n",
        "# no more (reduced the dataset size)\n",
        "import torch\n",
        "torch.cuda.empty_cache()"
      ]
    },
    {
      "cell_type": "code",
      "execution_count": 17,
      "metadata": {
        "colab": {
          "base_uri": "https://localhost:8080/",
          "height": 396,
          "referenced_widgets": [
            "a4c8c739a8804f25842e0f034b9e6a23",
            "c71a04ae8e934c6686bc70dfa81935d7",
            "8fa56e69a9824fb89f22810a4885dce3",
            "32a2b30085eb4e779ee411c65fd02738",
            "9ecc16fb57c747d59b8521dd2ab45968",
            "fd9278ceadb94b59baa96c409e507d95",
            "04507d6cdba74c2abde5fff0fa1128ac",
            "1289698a67f44fa8acc495165abfd356",
            "e9ddace07bbe43ec8d2850d419c73f65",
            "0f3e9f73d893491bb0ba168dd853779d",
            "cfda9663b2094ea481f2f3cf27a2800f"
          ]
        },
        "execution": {
          "iopub.execute_input": "2025-02-04T09:44:58.825298Z",
          "iopub.status.busy": "2025-02-04T09:44:58.824975Z",
          "iopub.status.idle": "2025-02-04T10:18:53.754235Z",
          "shell.execute_reply": "2025-02-04T10:18:53.752910Z",
          "shell.execute_reply.started": "2025-02-04T09:44:58.825267Z"
        },
        "id": "i3EDvBZtAbAh",
        "outputId": "5076d525-ddc9-47e3-9554-8117b9094afb",
        "trusted": true
      },
      "outputs": [
        {
          "data": {
            "application/vnd.jupyter.widget-view+json": {
              "model_id": "a4c8c739a8804f25842e0f034b9e6a23",
              "version_major": 2,
              "version_minor": 0
            },
            "text/plain": [
              "  0%|          | 0/20 [00:00<?, ?it/s]"
            ]
          },
          "metadata": {},
          "output_type": "display_data"
        },
        {
          "name": "stdout",
          "output_type": "stream",
          "text": [
            "epoch: 1 | train loss: 1.4591 | train acc: 0.3144 | test loss: 1.3754 | test acc: 0.2873 | \n",
            "epoch: 2 | train loss: 1.4386 | train acc: 0.2662 | test loss: 1.4098 | test acc: 0.2584 | \n",
            "epoch: 3 | train loss: 1.4090 | train acc: 0.2541 | test loss: 1.4082 | test acc: 0.2476 | \n",
            "epoch: 4 | train loss: 1.4078 | train acc: 0.2397 | test loss: 1.4114 | test acc: 0.2212 | \n",
            "epoch: 5 | train loss: 1.4070 | train acc: 0.2431 | test loss: 1.4114 | test acc: 0.2476 | \n",
            "epoch: 6 | train loss: 1.4040 | train acc: 0.2459 | test loss: 1.3988 | test acc: 0.2584 | \n",
            "epoch: 7 | train loss: 1.4059 | train acc: 0.2462 | test loss: 1.4010 | test acc: 0.2212 | \n",
            "epoch: 8 | train loss: 1.4061 | train acc: 0.2456 | test loss: 1.4034 | test acc: 0.2476 | \n",
            "epoch: 9 | train loss: 1.4066 | train acc: 0.2506 | test loss: 1.3989 | test acc: 0.2476 | \n",
            "epoch: 10 | train loss: 1.4054 | train acc: 0.2341 | test loss: 1.4107 | test acc: 0.2212 | \n",
            "epoch: 11 | train loss: 1.4046 | train acc: 0.2637 | test loss: 1.4042 | test acc: 0.2728 | \n",
            "epoch: 12 | train loss: 1.4063 | train acc: 0.2559 | test loss: 1.4115 | test acc: 0.2212 | \n",
            "epoch: 13 | train loss: 1.4057 | train acc: 0.2594 | test loss: 1.4088 | test acc: 0.2476 | \n",
            "epoch: 14 | train loss: 1.4065 | train acc: 0.2581 | test loss: 1.4032 | test acc: 0.2212 | \n",
            "epoch: 15 | train loss: 1.4056 | train acc: 0.2509 | test loss: 1.4098 | test acc: 0.2212 | \n",
            "epoch: 16 | train loss: 1.4066 | train acc: 0.2547 | test loss: 1.4191 | test acc: 0.2584 | \n",
            "epoch: 17 | train loss: 1.4056 | train acc: 0.2547 | test loss: 1.4035 | test acc: 0.2212 | \n",
            "epoch: 18 | train loss: 1.4085 | train acc: 0.2519 | test loss: 1.4197 | test acc: 0.2212 | \n",
            "epoch: 19 | train loss: 1.4060 | train acc: 0.2516 | test loss: 1.4126 | test acc: 0.2212 | \n",
            "epoch: 20 | train loss: 1.4060 | train acc: 0.2472 | test loss: 1.4082 | test acc: 0.2212 | \n"
          ]
        }
      ],
      "source": [
        "results = train(model = vit,\n",
        "               train_dataloader = train_loader,\n",
        "               test_dataloader = test_loader,\n",
        "               optimizer = optimizer,\n",
        "               loss_fn = loss_fn,\n",
        "               epochs= 20,\n",
        "               device = device)"
      ]
    },
    {
      "cell_type": "code",
      "execution_count": 18,
      "metadata": {
        "colab": {
          "base_uri": "https://localhost:8080/"
        },
        "execution": {
          "iopub.status.busy": "2025-02-04T10:18:53.754947Z",
          "iopub.status.idle": "2025-02-04T10:18:53.755248Z",
          "shell.execute_reply": "2025-02-04T10:18:53.755140Z"
        },
        "id": "TixS1eGbAbAh",
        "outputId": "3ee17652-bc6f-452b-f3c0-6565d72239e7",
        "trusted": true
      },
      "outputs": [
        {
          "name": "stdout",
          "output_type": "stream",
          "text": [
            "Model saved as vit_cifar10.pth\n"
          ]
        }
      ],
      "source": [
        "# save model dict\n",
        "torch.save(vit.state_dict(), \"vit_cifar10.pth\")\n",
        "print(\"Model saved as vit_cifar10.pth\")"
      ]
    }
  ],
  "metadata": {
    "accelerator": "GPU",
    "colab": {
      "gpuType": "T4",
      "provenance": []
    },
    "kaggle": {
      "accelerator": "nvidiaTeslaT4",
      "dataSources": [],
      "dockerImageVersionId": 30839,
      "isGpuEnabled": true,
      "isInternetEnabled": true,
      "language": "python",
      "sourceType": "notebook"
    },
    "kernelspec": {
      "display_name": "Python 3",
      "name": "python3"
    },
    "language_info": {
      "codemirror_mode": {
        "name": "ipython",
        "version": 3
      },
      "file_extension": ".py",
      "mimetype": "text/x-python",
      "name": "python",
      "nbconvert_exporter": "python",
      "pygments_lexer": "ipython3",
      "version": "3.10.12"
    },
    "widgets": {
      "application/vnd.jupyter.widget-state+json": {
        "04507d6cdba74c2abde5fff0fa1128ac": {
          "model_module": "@jupyter-widgets/controls",
          "model_module_version": "1.5.0",
          "model_name": "DescriptionStyleModel",
          "state": {
            "_model_module": "@jupyter-widgets/controls",
            "_model_module_version": "1.5.0",
            "_model_name": "DescriptionStyleModel",
            "_view_count": null,
            "_view_module": "@jupyter-widgets/base",
            "_view_module_version": "1.2.0",
            "_view_name": "StyleView",
            "description_width": ""
          }
        },
        "0f3e9f73d893491bb0ba168dd853779d": {
          "model_module": "@jupyter-widgets/base",
          "model_module_version": "1.2.0",
          "model_name": "LayoutModel",
          "state": {
            "_model_module": "@jupyter-widgets/base",
            "_model_module_version": "1.2.0",
            "_model_name": "LayoutModel",
            "_view_count": null,
            "_view_module": "@jupyter-widgets/base",
            "_view_module_version": "1.2.0",
            "_view_name": "LayoutView",
            "align_content": null,
            "align_items": null,
            "align_self": null,
            "border": null,
            "bottom": null,
            "display": null,
            "flex": null,
            "flex_flow": null,
            "grid_area": null,
            "grid_auto_columns": null,
            "grid_auto_flow": null,
            "grid_auto_rows": null,
            "grid_column": null,
            "grid_gap": null,
            "grid_row": null,
            "grid_template_areas": null,
            "grid_template_columns": null,
            "grid_template_rows": null,
            "height": null,
            "justify_content": null,
            "justify_items": null,
            "left": null,
            "margin": null,
            "max_height": null,
            "max_width": null,
            "min_height": null,
            "min_width": null,
            "object_fit": null,
            "object_position": null,
            "order": null,
            "overflow": null,
            "overflow_x": null,
            "overflow_y": null,
            "padding": null,
            "right": null,
            "top": null,
            "visibility": null,
            "width": null
          }
        },
        "1289698a67f44fa8acc495165abfd356": {
          "model_module": "@jupyter-widgets/base",
          "model_module_version": "1.2.0",
          "model_name": "LayoutModel",
          "state": {
            "_model_module": "@jupyter-widgets/base",
            "_model_module_version": "1.2.0",
            "_model_name": "LayoutModel",
            "_view_count": null,
            "_view_module": "@jupyter-widgets/base",
            "_view_module_version": "1.2.0",
            "_view_name": "LayoutView",
            "align_content": null,
            "align_items": null,
            "align_self": null,
            "border": null,
            "bottom": null,
            "display": null,
            "flex": null,
            "flex_flow": null,
            "grid_area": null,
            "grid_auto_columns": null,
            "grid_auto_flow": null,
            "grid_auto_rows": null,
            "grid_column": null,
            "grid_gap": null,
            "grid_row": null,
            "grid_template_areas": null,
            "grid_template_columns": null,
            "grid_template_rows": null,
            "height": null,
            "justify_content": null,
            "justify_items": null,
            "left": null,
            "margin": null,
            "max_height": null,
            "max_width": null,
            "min_height": null,
            "min_width": null,
            "object_fit": null,
            "object_position": null,
            "order": null,
            "overflow": null,
            "overflow_x": null,
            "overflow_y": null,
            "padding": null,
            "right": null,
            "top": null,
            "visibility": null,
            "width": null
          }
        },
        "32a2b30085eb4e779ee411c65fd02738": {
          "model_module": "@jupyter-widgets/controls",
          "model_module_version": "1.5.0",
          "model_name": "HTMLModel",
          "state": {
            "_dom_classes": [],
            "_model_module": "@jupyter-widgets/controls",
            "_model_module_version": "1.5.0",
            "_model_name": "HTMLModel",
            "_view_count": null,
            "_view_module": "@jupyter-widgets/controls",
            "_view_module_version": "1.5.0",
            "_view_name": "HTMLView",
            "description": "",
            "description_tooltip": null,
            "layout": "IPY_MODEL_0f3e9f73d893491bb0ba168dd853779d",
            "placeholder": "​",
            "style": "IPY_MODEL_cfda9663b2094ea481f2f3cf27a2800f",
            "value": " 20/20 [37:41&lt;00:00, 113.58s/it]"
          }
        },
        "8fa56e69a9824fb89f22810a4885dce3": {
          "model_module": "@jupyter-widgets/controls",
          "model_module_version": "1.5.0",
          "model_name": "FloatProgressModel",
          "state": {
            "_dom_classes": [],
            "_model_module": "@jupyter-widgets/controls",
            "_model_module_version": "1.5.0",
            "_model_name": "FloatProgressModel",
            "_view_count": null,
            "_view_module": "@jupyter-widgets/controls",
            "_view_module_version": "1.5.0",
            "_view_name": "ProgressView",
            "bar_style": "success",
            "description": "",
            "description_tooltip": null,
            "layout": "IPY_MODEL_1289698a67f44fa8acc495165abfd356",
            "max": 20,
            "min": 0,
            "orientation": "horizontal",
            "style": "IPY_MODEL_e9ddace07bbe43ec8d2850d419c73f65",
            "value": 20
          }
        },
        "9ecc16fb57c747d59b8521dd2ab45968": {
          "model_module": "@jupyter-widgets/base",
          "model_module_version": "1.2.0",
          "model_name": "LayoutModel",
          "state": {
            "_model_module": "@jupyter-widgets/base",
            "_model_module_version": "1.2.0",
            "_model_name": "LayoutModel",
            "_view_count": null,
            "_view_module": "@jupyter-widgets/base",
            "_view_module_version": "1.2.0",
            "_view_name": "LayoutView",
            "align_content": null,
            "align_items": null,
            "align_self": null,
            "border": null,
            "bottom": null,
            "display": null,
            "flex": null,
            "flex_flow": null,
            "grid_area": null,
            "grid_auto_columns": null,
            "grid_auto_flow": null,
            "grid_auto_rows": null,
            "grid_column": null,
            "grid_gap": null,
            "grid_row": null,
            "grid_template_areas": null,
            "grid_template_columns": null,
            "grid_template_rows": null,
            "height": null,
            "justify_content": null,
            "justify_items": null,
            "left": null,
            "margin": null,
            "max_height": null,
            "max_width": null,
            "min_height": null,
            "min_width": null,
            "object_fit": null,
            "object_position": null,
            "order": null,
            "overflow": null,
            "overflow_x": null,
            "overflow_y": null,
            "padding": null,
            "right": null,
            "top": null,
            "visibility": null,
            "width": null
          }
        },
        "a4c8c739a8804f25842e0f034b9e6a23": {
          "model_module": "@jupyter-widgets/controls",
          "model_module_version": "1.5.0",
          "model_name": "HBoxModel",
          "state": {
            "_dom_classes": [],
            "_model_module": "@jupyter-widgets/controls",
            "_model_module_version": "1.5.0",
            "_model_name": "HBoxModel",
            "_view_count": null,
            "_view_module": "@jupyter-widgets/controls",
            "_view_module_version": "1.5.0",
            "_view_name": "HBoxView",
            "box_style": "",
            "children": [
              "IPY_MODEL_c71a04ae8e934c6686bc70dfa81935d7",
              "IPY_MODEL_8fa56e69a9824fb89f22810a4885dce3",
              "IPY_MODEL_32a2b30085eb4e779ee411c65fd02738"
            ],
            "layout": "IPY_MODEL_9ecc16fb57c747d59b8521dd2ab45968"
          }
        },
        "c71a04ae8e934c6686bc70dfa81935d7": {
          "model_module": "@jupyter-widgets/controls",
          "model_module_version": "1.5.0",
          "model_name": "HTMLModel",
          "state": {
            "_dom_classes": [],
            "_model_module": "@jupyter-widgets/controls",
            "_model_module_version": "1.5.0",
            "_model_name": "HTMLModel",
            "_view_count": null,
            "_view_module": "@jupyter-widgets/controls",
            "_view_module_version": "1.5.0",
            "_view_name": "HTMLView",
            "description": "",
            "description_tooltip": null,
            "layout": "IPY_MODEL_fd9278ceadb94b59baa96c409e507d95",
            "placeholder": "​",
            "style": "IPY_MODEL_04507d6cdba74c2abde5fff0fa1128ac",
            "value": "100%"
          }
        },
        "cfda9663b2094ea481f2f3cf27a2800f": {
          "model_module": "@jupyter-widgets/controls",
          "model_module_version": "1.5.0",
          "model_name": "DescriptionStyleModel",
          "state": {
            "_model_module": "@jupyter-widgets/controls",
            "_model_module_version": "1.5.0",
            "_model_name": "DescriptionStyleModel",
            "_view_count": null,
            "_view_module": "@jupyter-widgets/base",
            "_view_module_version": "1.2.0",
            "_view_name": "StyleView",
            "description_width": ""
          }
        },
        "e9ddace07bbe43ec8d2850d419c73f65": {
          "model_module": "@jupyter-widgets/controls",
          "model_module_version": "1.5.0",
          "model_name": "ProgressStyleModel",
          "state": {
            "_model_module": "@jupyter-widgets/controls",
            "_model_module_version": "1.5.0",
            "_model_name": "ProgressStyleModel",
            "_view_count": null,
            "_view_module": "@jupyter-widgets/base",
            "_view_module_version": "1.2.0",
            "_view_name": "StyleView",
            "bar_color": null,
            "description_width": ""
          }
        },
        "fd9278ceadb94b59baa96c409e507d95": {
          "model_module": "@jupyter-widgets/base",
          "model_module_version": "1.2.0",
          "model_name": "LayoutModel",
          "state": {
            "_model_module": "@jupyter-widgets/base",
            "_model_module_version": "1.2.0",
            "_model_name": "LayoutModel",
            "_view_count": null,
            "_view_module": "@jupyter-widgets/base",
            "_view_module_version": "1.2.0",
            "_view_name": "LayoutView",
            "align_content": null,
            "align_items": null,
            "align_self": null,
            "border": null,
            "bottom": null,
            "display": null,
            "flex": null,
            "flex_flow": null,
            "grid_area": null,
            "grid_auto_columns": null,
            "grid_auto_flow": null,
            "grid_auto_rows": null,
            "grid_column": null,
            "grid_gap": null,
            "grid_row": null,
            "grid_template_areas": null,
            "grid_template_columns": null,
            "grid_template_rows": null,
            "height": null,
            "justify_content": null,
            "justify_items": null,
            "left": null,
            "margin": null,
            "max_height": null,
            "max_width": null,
            "min_height": null,
            "min_width": null,
            "object_fit": null,
            "object_position": null,
            "order": null,
            "overflow": null,
            "overflow_x": null,
            "overflow_y": null,
            "padding": null,
            "right": null,
            "top": null,
            "visibility": null,
            "width": null
          }
        }
      }
    }
  },
  "nbformat": 4,
  "nbformat_minor": 0
}
