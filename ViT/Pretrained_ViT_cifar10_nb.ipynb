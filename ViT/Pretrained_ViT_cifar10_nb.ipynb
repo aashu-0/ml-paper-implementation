{
  "cells": [
    {
      "cell_type": "code",
      "execution_count": null,
      "metadata": {
        "_cell_guid": "b1076dfc-b9ad-4769-8c92-a6c4dae69d19",
        "_uuid": "8f2839f25d086af736a60e9eeb907d3b93b6e0e5",
        "execution": {
          "iopub.execute_input": "2025-02-04T09:44:45.107509Z",
          "iopub.status.busy": "2025-02-04T09:44:45.107204Z",
          "iopub.status.idle": "2025-02-04T09:44:50.414166Z",
          "shell.execute_reply": "2025-02-04T09:44:50.413465Z",
          "shell.execute_reply.started": "2025-02-04T09:44:45.107486Z"
        },
        "trusted": true,
        "id": "C1uiGnSiAbAI"
      },
      "outputs": [],
      "source": [
        "import torch\n",
        "import torch.nn as nn\n",
        "import torchvision\n",
        "from torchvision import transforms\n",
        "from torch.utils.data import DataLoader, Subset, random_split\n",
        "import numpy as np\n",
        "\n",
        "# set seed\n",
        "torch.manual_seed(54)\n",
        "torch.cuda.manual_seed(54)"
      ]
    },
    {
      "cell_type": "code",
      "source": [
        "device = 'cuda' if torch.cuda.is_available() else 'cpu'\n",
        "device"
      ],
      "metadata": {
        "colab": {
          "base_uri": "https://localhost:8080/",
          "height": 35
        },
        "id": "dqPTp1XmJfVY",
        "outputId": "5bd16bf7-5f22-4a60-c62f-afdae1550aee"
      },
      "execution_count": null,
      "outputs": [
        {
          "output_type": "execute_result",
          "data": {
            "text/plain": [
              "'cuda'"
            ],
            "application/vnd.google.colaboratory.intrinsic+json": {
              "type": "string"
            }
          },
          "metadata": {},
          "execution_count": 2
        }
      ]
    },
    {
      "cell_type": "code",
      "source": [
        "# setup pretrained model\n",
        "\n",
        "# weights\n",
        "pretrained_vit_weights = torchvision.models.ViT_B_16_Weights.DEFAULT\n",
        "\n",
        "# model instance\n",
        "pretrained_vit = torchvision.models.vit_b_16(weights = pretrained_vit_weights).to(device)"
      ],
      "metadata": {
        "colab": {
          "base_uri": "https://localhost:8080/"
        },
        "id": "Z6nvs5iBD9m9",
        "outputId": "e78a1eb5-1e72-4418-f823-164dd6dfc823"
      },
      "execution_count": null,
      "outputs": [
        {
          "output_type": "stream",
          "name": "stderr",
          "text": [
            "Downloading: \"https://download.pytorch.org/models/vit_b_16-c867db91.pth\" to /root/.cache/torch/hub/checkpoints/vit_b_16-c867db91.pth\n",
            "100%|██████████| 330M/330M [00:02<00:00, 133MB/s] \n"
          ]
        }
      ]
    },
    {
      "cell_type": "code",
      "source": [
        "# get automatic transforms\n",
        "pretrained_vit_transforms = pretrained_vit_weights.transforms()\n",
        "pretrained_vit_transforms"
      ],
      "metadata": {
        "colab": {
          "base_uri": "https://localhost:8080/"
        },
        "id": "3g37o9OYEUxV",
        "outputId": "6ad38ac7-2e33-4f63-8a6f-0c8f35e0ac0e"
      },
      "execution_count": null,
      "outputs": [
        {
          "output_type": "execute_result",
          "data": {
            "text/plain": [
              "ImageClassification(\n",
              "    crop_size=[224]\n",
              "    resize_size=[256]\n",
              "    mean=[0.485, 0.456, 0.406]\n",
              "    std=[0.229, 0.224, 0.225]\n",
              "    interpolation=InterpolationMode.BILINEAR\n",
              ")"
            ]
          },
          "metadata": {},
          "execution_count": 4
        }
      ]
    },
    {
      "cell_type": "code",
      "execution_count": null,
      "metadata": {
        "execution": {
          "iopub.execute_input": "2025-02-04T09:44:50.415489Z",
          "iopub.status.busy": "2025-02-04T09:44:50.415189Z",
          "iopub.status.idle": "2025-02-04T09:44:56.271321Z",
          "shell.execute_reply": "2025-02-04T09:44:56.270638Z",
          "shell.execute_reply.started": "2025-02-04T09:44:50.415470Z"
        },
        "trusted": true,
        "colab": {
          "base_uri": "https://localhost:8080/"
        },
        "id": "8l2BlxjvAbAN",
        "outputId": "0f282a5c-75c5-4b1f-e048-bc13b28655d4"
      },
      "outputs": [
        {
          "output_type": "stream",
          "name": "stdout",
          "text": [
            "Downloading https://www.cs.toronto.edu/~kriz/cifar-10-python.tar.gz to ./data/cifar-10-python.tar.gz\n"
          ]
        },
        {
          "output_type": "stream",
          "name": "stderr",
          "text": [
            "100%|██████████| 170M/170M [00:13<00:00, 12.8MB/s]\n"
          ]
        },
        {
          "output_type": "stream",
          "name": "stdout",
          "text": [
            "Extracting ./data/cifar-10-python.tar.gz to ./data\n",
            "Train data size: 3200 images, Test data size: 800 images\n"
          ]
        }
      ],
      "source": [
        "BATCH_SIZE = 64\n",
        "NUM_WORKERS = 2\n",
        "classes = {'airplane':0, 'automobile':1, 'bird':2, 'cat':3}\n",
        "img_per_class = 1000\n",
        "\n",
        "\n",
        "# load data\n",
        "dataset = torchvision.datasets.CIFAR10(root='./data',\n",
        "                                          train=True,\n",
        "                                          download=True,\n",
        "                                          transform=pretrained_vit_transforms)\n",
        "\n",
        "# class indices\n",
        "class_indices = {k:[] for k in classes.values()}\n",
        "\n",
        "for idx, (img, label) in enumerate(dataset):\n",
        "    if label in class_indices and len(class_indices[label]) < img_per_class:\n",
        "        class_indices[label].append(idx)\n",
        "\n",
        "    if all(len(num_indices)== img_per_class for num_indices in class_indices.values()):\n",
        "        break\n",
        "\n",
        "# create subset\n",
        "total_indices = sum(class_indices.values(),[])\n",
        "subset_dataset = Subset(dataset, total_indices)\n",
        "\n",
        "# train and test split\n",
        "train_size = int(0.8 * len(subset_dataset))\n",
        "test_size = len(subset_dataset) - train_size\n",
        "train_data_pretrained, test_data_pretrained = random_split(subset_dataset, [train_size, test_size])\n",
        "\n",
        "\n",
        "train_loader_pretrained = DataLoader(train_data_pretrained, batch_size = BATCH_SIZE, shuffle = True, num_workers = NUM_WORKERS)\n",
        "test_loader_pretrained = DataLoader(test_data_pretrained, batch_size = BATCH_SIZE, shuffle = False, num_workers = NUM_WORKERS)\n",
        "\n",
        "print(f'Train data size: {len(train_data_pretrained)} images, Test data size: {len(test_data_pretrained)} images')\n"
      ]
    },
    {
      "cell_type": "code",
      "execution_count": null,
      "metadata": {
        "execution": {
          "iopub.execute_input": "2025-02-04T09:44:56.273106Z",
          "iopub.status.busy": "2025-02-04T09:44:56.272832Z",
          "iopub.status.idle": "2025-02-04T09:44:56.279057Z",
          "shell.execute_reply": "2025-02-04T09:44:56.278277Z",
          "shell.execute_reply.started": "2025-02-04T09:44:56.273083Z"
        },
        "trusted": true,
        "colab": {
          "base_uri": "https://localhost:8080/"
        },
        "id": "9U0D-S17AbAP",
        "outputId": "cf98d040-6415-4dcf-b6ca-456068d5c705"
      },
      "outputs": [
        {
          "output_type": "execute_result",
          "data": {
            "text/plain": [
              "(<torch.utils.data.dataloader.DataLoader at 0x7abf17114a90>,\n",
              " <torch.utils.data.dataloader.DataLoader at 0x7abf1691e810>)"
            ]
          },
          "metadata": {},
          "execution_count": 6
        }
      ],
      "source": [
        "train_loader_pretrained, test_loader_pretrained"
      ]
    },
    {
      "cell_type": "code",
      "source": [
        "!pip install torchinfo\n",
        "from torchinfo import summary\n",
        "\n",
        "summary(pretrained_vit, input_size = (1,3,224,224))"
      ],
      "metadata": {
        "colab": {
          "base_uri": "https://localhost:8080/"
        },
        "id": "id0hcQhjHyOC",
        "outputId": "af2199d9-505f-463f-feef-fc4342214238"
      },
      "execution_count": null,
      "outputs": [
        {
          "output_type": "stream",
          "name": "stdout",
          "text": [
            "Collecting torchinfo\n",
            "  Downloading torchinfo-1.8.0-py3-none-any.whl.metadata (21 kB)\n",
            "Downloading torchinfo-1.8.0-py3-none-any.whl (23 kB)\n",
            "Installing collected packages: torchinfo\n",
            "Successfully installed torchinfo-1.8.0\n"
          ]
        },
        {
          "output_type": "execute_result",
          "data": {
            "text/plain": [
              "===============================================================================================\n",
              "Layer (type:depth-idx)                        Output Shape              Param #\n",
              "===============================================================================================\n",
              "VisionTransformer                             [1, 1000]                 768\n",
              "├─Conv2d: 1-1                                 [1, 768, 14, 14]          590,592\n",
              "├─Encoder: 1-2                                [1, 197, 768]             151,296\n",
              "│    └─Dropout: 2-1                           [1, 197, 768]             --\n",
              "│    └─Sequential: 2-2                        [1, 197, 768]             --\n",
              "│    │    └─EncoderBlock: 3-1                 [1, 197, 768]             7,087,872\n",
              "│    │    └─EncoderBlock: 3-2                 [1, 197, 768]             7,087,872\n",
              "│    │    └─EncoderBlock: 3-3                 [1, 197, 768]             7,087,872\n",
              "│    │    └─EncoderBlock: 3-4                 [1, 197, 768]             7,087,872\n",
              "│    │    └─EncoderBlock: 3-5                 [1, 197, 768]             7,087,872\n",
              "│    │    └─EncoderBlock: 3-6                 [1, 197, 768]             7,087,872\n",
              "│    │    └─EncoderBlock: 3-7                 [1, 197, 768]             7,087,872\n",
              "│    │    └─EncoderBlock: 3-8                 [1, 197, 768]             7,087,872\n",
              "│    │    └─EncoderBlock: 3-9                 [1, 197, 768]             7,087,872\n",
              "│    │    └─EncoderBlock: 3-10                [1, 197, 768]             7,087,872\n",
              "│    │    └─EncoderBlock: 3-11                [1, 197, 768]             7,087,872\n",
              "│    │    └─EncoderBlock: 3-12                [1, 197, 768]             7,087,872\n",
              "│    └─LayerNorm: 2-3                         [1, 197, 768]             1,536\n",
              "├─Sequential: 1-3                             [1, 1000]                 --\n",
              "│    └─Linear: 2-4                            [1, 1000]                 769,000\n",
              "===============================================================================================\n",
              "Total params: 86,567,656\n",
              "Trainable params: 86,567,656\n",
              "Non-trainable params: 0\n",
              "Total mult-adds (Units.MEGABYTES): 173.23\n",
              "===============================================================================================\n",
              "Input size (MB): 0.60\n",
              "Forward/backward pass size (MB): 104.09\n",
              "Params size (MB): 232.27\n",
              "Estimated Total Size (MB): 336.96\n",
              "==============================================================================================="
            ]
          },
          "metadata": {},
          "execution_count": 7
        }
      ]
    },
    {
      "cell_type": "code",
      "source": [
        "pretrained_vit.heads"
      ],
      "metadata": {
        "colab": {
          "base_uri": "https://localhost:8080/"
        },
        "id": "AYeU0dEbIEwK",
        "outputId": "306a0891-344e-43b6-8a61-e37b0fd1012c"
      },
      "execution_count": null,
      "outputs": [
        {
          "output_type": "execute_result",
          "data": {
            "text/plain": [
              "Sequential(\n",
              "  (head): Linear(in_features=768, out_features=1000, bias=True)\n",
              ")"
            ]
          },
          "metadata": {},
          "execution_count": 8
        }
      ]
    },
    {
      "cell_type": "code",
      "source": [
        "# freeze the base parameters\n",
        "\n",
        "for parm in pretrained_vit.parameters():\n",
        "    parm.requires_grad = False\n",
        "\n",
        "# modify the classifier head\n",
        "pretrained_vit.heads = nn.Linear(in_features = 768, out_features = 4).to(device)"
      ],
      "metadata": {
        "id": "mfgQa4--HeAQ"
      },
      "execution_count": null,
      "outputs": []
    },
    {
      "cell_type": "code",
      "source": [
        "summary(pretrained_vit, input_size = (1,3,224,224), col_names=(\"input_size\",\"output_size\",\"num_params\",\"trainable\"))"
      ],
      "metadata": {
        "colab": {
          "base_uri": "https://localhost:8080/"
        },
        "id": "NpvEx4NUHd-U",
        "outputId": "18b4dc93-9b66-4f9f-e27a-9ca6cd1864cb"
      },
      "execution_count": null,
      "outputs": [
        {
          "output_type": "execute_result",
          "data": {
            "text/plain": [
              "=================================================================================================================================================\n",
              "Layer (type:depth-idx)                        Input Shape               Output Shape              Param #                   Trainable\n",
              "=================================================================================================================================================\n",
              "VisionTransformer                             [1, 3, 224, 224]          [1, 4]                    768                       Partial\n",
              "├─Conv2d: 1-1                                 [1, 3, 224, 224]          [1, 768, 14, 14]          (590,592)                 False\n",
              "├─Encoder: 1-2                                [1, 197, 768]             [1, 197, 768]             151,296                   False\n",
              "│    └─Dropout: 2-1                           [1, 197, 768]             [1, 197, 768]             --                        --\n",
              "│    └─Sequential: 2-2                        [1, 197, 768]             [1, 197, 768]             --                        False\n",
              "│    │    └─EncoderBlock: 3-1                 [1, 197, 768]             [1, 197, 768]             (7,087,872)               False\n",
              "│    │    └─EncoderBlock: 3-2                 [1, 197, 768]             [1, 197, 768]             (7,087,872)               False\n",
              "│    │    └─EncoderBlock: 3-3                 [1, 197, 768]             [1, 197, 768]             (7,087,872)               False\n",
              "│    │    └─EncoderBlock: 3-4                 [1, 197, 768]             [1, 197, 768]             (7,087,872)               False\n",
              "│    │    └─EncoderBlock: 3-5                 [1, 197, 768]             [1, 197, 768]             (7,087,872)               False\n",
              "│    │    └─EncoderBlock: 3-6                 [1, 197, 768]             [1, 197, 768]             (7,087,872)               False\n",
              "│    │    └─EncoderBlock: 3-7                 [1, 197, 768]             [1, 197, 768]             (7,087,872)               False\n",
              "│    │    └─EncoderBlock: 3-8                 [1, 197, 768]             [1, 197, 768]             (7,087,872)               False\n",
              "│    │    └─EncoderBlock: 3-9                 [1, 197, 768]             [1, 197, 768]             (7,087,872)               False\n",
              "│    │    └─EncoderBlock: 3-10                [1, 197, 768]             [1, 197, 768]             (7,087,872)               False\n",
              "│    │    └─EncoderBlock: 3-11                [1, 197, 768]             [1, 197, 768]             (7,087,872)               False\n",
              "│    │    └─EncoderBlock: 3-12                [1, 197, 768]             [1, 197, 768]             (7,087,872)               False\n",
              "│    └─LayerNorm: 2-3                         [1, 197, 768]             [1, 197, 768]             (1,536)                   False\n",
              "├─Linear: 1-3                                 [1, 768]                  [1, 4]                    3,076                     True\n",
              "=================================================================================================================================================\n",
              "Total params: 85,801,732\n",
              "Trainable params: 3,076\n",
              "Non-trainable params: 85,798,656\n",
              "Total mult-adds (Units.MEGABYTES): 172.47\n",
              "=================================================================================================================================================\n",
              "Input size (MB): 0.60\n",
              "Forward/backward pass size (MB): 104.09\n",
              "Params size (MB): 229.21\n",
              "Estimated Total Size (MB): 333.89\n",
              "================================================================================================================================================="
            ]
          },
          "metadata": {},
          "execution_count": 10
        }
      ]
    },
    {
      "cell_type": "code",
      "source": [
        "# get engine.py script from github\n",
        "!git clone https://github.com/aashu-0/ml-paper-implementation\n",
        "! mv ml-paper-implementation/ViT .\n",
        "from ViT import engine"
      ],
      "metadata": {
        "colab": {
          "base_uri": "https://localhost:8080/"
        },
        "id": "K3sXmlFLHdsY",
        "outputId": "130cb6e8-4181-4798-cf83-68bd09afe3b0"
      },
      "execution_count": null,
      "outputs": [
        {
          "output_type": "stream",
          "name": "stdout",
          "text": [
            "Cloning into 'ml-paper-implementation'...\n",
            "remote: Enumerating objects: 23, done.\u001b[K\n",
            "remote: Counting objects: 100% (23/23), done.\u001b[K\n",
            "remote: Compressing objects: 100% (14/14), done.\u001b[K\n",
            "remote: Total 23 (delta 5), reused 23 (delta 5), pack-reused 0 (from 0)\u001b[K\n",
            "Receiving objects: 100% (23/23), 65.51 KiB | 13.10 MiB/s, done.\n",
            "Resolving deltas: 100% (5/5), done.\n"
          ]
        }
      ]
    },
    {
      "cell_type": "code",
      "source": [
        "loss_fn = torch.nn.CrossEntropyLoss()\n",
        "optimizer = torch.optim.Adam(params = pretrained_vit.parameters(),\n",
        "                            lr=0.0003,\n",
        "                            betas = (0.9,0.99),\n",
        "                            weight_decay = 0.5)"
      ],
      "metadata": {
        "id": "Oi3FSY7WHdh-"
      },
      "execution_count": null,
      "outputs": []
    },
    {
      "cell_type": "code",
      "source": [
        "# training\n",
        "pretrained_vit_results = engine.train(model = pretrained_vit,\n",
        "                                      train_dataloader = train_loader_pretrained,\n",
        "                                      test_dataloader = test_loader_pretrained,\n",
        "                                      optimizer= optimizer,\n",
        "                                      loss_fn = loss_fn,\n",
        "                                      epochs = 20,\n",
        "                                      device = device)"
      ],
      "metadata": {
        "colab": {
          "base_uri": "https://localhost:8080/",
          "height": 396,
          "referenced_widgets": [
            "ad1f53e43f76422a94cb296a613bb00e",
            "11002cbf8ba14593a22a9287292a4053",
            "187fa42df5184c7c89979394558f314b",
            "907959aa7d6e43bfa9f771fadf2b4d92",
            "736f318e10554c4c93aad10cac0062d7",
            "dd17bffff1a24b71b1e76de83ee98b7d",
            "c3c7cb533c874999884436c22e047097",
            "2abf65947f6b473b82a47bedc4a883ce",
            "a28ff46bba6d498a9023c109427a85fd",
            "8585474915f7455aa3ec342ee4b4673d",
            "0bc44bea26514aba89b6535d3da5d1f1"
          ]
        },
        "id": "5LsOMby8HdUI",
        "outputId": "2f382e72-acd3-4b5f-fbd7-cf48a23dc972"
      },
      "execution_count": null,
      "outputs": [
        {
          "output_type": "display_data",
          "data": {
            "text/plain": [
              "  0%|          | 0/20 [00:00<?, ?it/s]"
            ],
            "application/vnd.jupyter.widget-view+json": {
              "version_major": 2,
              "version_minor": 0,
              "model_id": "ad1f53e43f76422a94cb296a613bb00e"
            }
          },
          "metadata": {}
        },
        {
          "output_type": "stream",
          "name": "stdout",
          "text": [
            "epoch: 1 | train loss: 0.8156 | train acc: 0.7775 | test loss: 0.4123 | test acc: 0.9507 | \n",
            "epoch: 2 | train loss: 0.3148 | train acc: 0.9591 | test loss: 0.2543 | test acc: 0.9688 | \n",
            "epoch: 3 | train loss: 0.2286 | train acc: 0.9697 | test loss: 0.2137 | test acc: 0.9736 | \n",
            "epoch: 4 | train loss: 0.2006 | train acc: 0.9747 | test loss: 0.1969 | test acc: 0.9760 | \n",
            "epoch: 5 | train loss: 0.1871 | train acc: 0.9762 | test loss: 0.1886 | test acc: 0.9736 | \n",
            "epoch: 6 | train loss: 0.1803 | train acc: 0.9772 | test loss: 0.1830 | test acc: 0.9784 | \n",
            "epoch: 7 | train loss: 0.1750 | train acc: 0.9759 | test loss: 0.1805 | test acc: 0.9724 | \n",
            "epoch: 8 | train loss: 0.1726 | train acc: 0.9803 | test loss: 0.1779 | test acc: 0.9808 | \n",
            "epoch: 9 | train loss: 0.1708 | train acc: 0.9775 | test loss: 0.1775 | test acc: 0.9772 | \n",
            "epoch: 10 | train loss: 0.1704 | train acc: 0.9775 | test loss: 0.1766 | test acc: 0.9784 | \n",
            "epoch: 11 | train loss: 0.1703 | train acc: 0.9775 | test loss: 0.1765 | test acc: 0.9772 | \n",
            "epoch: 12 | train loss: 0.1692 | train acc: 0.9775 | test loss: 0.1777 | test acc: 0.9772 | \n",
            "epoch: 13 | train loss: 0.1698 | train acc: 0.9784 | test loss: 0.1755 | test acc: 0.9808 | \n",
            "epoch: 14 | train loss: 0.1697 | train acc: 0.9769 | test loss: 0.1753 | test acc: 0.9796 | \n",
            "epoch: 15 | train loss: 0.1686 | train acc: 0.9778 | test loss: 0.1767 | test acc: 0.9736 | \n",
            "epoch: 16 | train loss: 0.1697 | train acc: 0.9759 | test loss: 0.1763 | test acc: 0.9784 | \n",
            "epoch: 17 | train loss: 0.1695 | train acc: 0.9775 | test loss: 0.1752 | test acc: 0.9784 | \n",
            "epoch: 18 | train loss: 0.1696 | train acc: 0.9791 | test loss: 0.1752 | test acc: 0.9796 | \n",
            "epoch: 19 | train loss: 0.1692 | train acc: 0.9788 | test loss: 0.1774 | test acc: 0.9772 | \n",
            "epoch: 20 | train loss: 0.1690 | train acc: 0.9794 | test loss: 0.1772 | test acc: 0.9760 | \n"
          ]
        }
      ]
    },
    {
      "cell_type": "code",
      "source": [
        "# save model dict\n",
        "torch.save(pretrained_vit.state_dict(), \"pretrained-vit_cifar10.pth\")\n",
        "print(\"Model saved as pretrained-vit_cifar10.pth\")"
      ],
      "metadata": {
        "id": "A-O6Pn_6MbBv",
        "colab": {
          "base_uri": "https://localhost:8080/"
        },
        "outputId": "ff8e21d5-15cc-4b36-a56f-82a486cd95fb"
      },
      "execution_count": null,
      "outputs": [
        {
          "output_type": "stream",
          "name": "stdout",
          "text": [
            "Model saved as pretrained-vit_cifar10.pth\n"
          ]
        }
      ]
    },
    {
      "cell_type": "code",
      "source": [
        "import os\n",
        "\n",
        "file_name = \"pretrained-vit_cifar10.pth\"\n",
        "file_size = os.path.getsize(file_name)\n",
        "\n",
        "print(f\"File Size in Bytes is: {file_size}\")\n",
        "print(f\"File Size in MegaBytes is: {file_size / (1024 * 1024):.2f} MB\")"
      ],
      "metadata": {
        "id": "p7MYoUzHN33O",
        "colab": {
          "base_uri": "https://localhost:8080/"
        },
        "outputId": "92bd996c-c56b-459a-8b03-ceff4dc275af"
      },
      "execution_count": null,
      "outputs": [
        {
          "output_type": "stream",
          "name": "stdout",
          "text": [
            "File Size in Bytes is: 343269670\n",
            "File Size in MegaBytes is: 327.37 MB\n"
          ]
        }
      ]
    },
    {
      "cell_type": "code",
      "source": [],
      "metadata": {
        "id": "llDT9DZdN41A"
      },
      "execution_count": null,
      "outputs": []
    }
  ],
  "metadata": {
    "kaggle": {
      "accelerator": "nvidiaTeslaT4",
      "dataSources": [],
      "dockerImageVersionId": 30839,
      "isGpuEnabled": true,
      "isInternetEnabled": true,
      "language": "python",
      "sourceType": "notebook"
    },
    "kernelspec": {
      "display_name": "Python 3",
      "name": "python3"
    },
    "language_info": {
      "codemirror_mode": {
        "name": "ipython",
        "version": 3
      },
      "file_extension": ".py",
      "mimetype": "text/x-python",
      "name": "python",
      "nbconvert_exporter": "python",
      "pygments_lexer": "ipython3",
      "version": "3.10.12"
    },
    "colab": {
      "provenance": [],
      "gpuType": "T4"
    },
    "accelerator": "GPU",
    "widgets": {
      "application/vnd.jupyter.widget-state+json": {
        "ad1f53e43f76422a94cb296a613bb00e": {
          "model_module": "@jupyter-widgets/controls",
          "model_name": "HBoxModel",
          "model_module_version": "1.5.0",
          "state": {
            "_dom_classes": [],
            "_model_module": "@jupyter-widgets/controls",
            "_model_module_version": "1.5.0",
            "_model_name": "HBoxModel",
            "_view_count": null,
            "_view_module": "@jupyter-widgets/controls",
            "_view_module_version": "1.5.0",
            "_view_name": "HBoxView",
            "box_style": "",
            "children": [
              "IPY_MODEL_11002cbf8ba14593a22a9287292a4053",
              "IPY_MODEL_187fa42df5184c7c89979394558f314b",
              "IPY_MODEL_907959aa7d6e43bfa9f771fadf2b4d92"
            ],
            "layout": "IPY_MODEL_736f318e10554c4c93aad10cac0062d7"
          }
        },
        "11002cbf8ba14593a22a9287292a4053": {
          "model_module": "@jupyter-widgets/controls",
          "model_name": "HTMLModel",
          "model_module_version": "1.5.0",
          "state": {
            "_dom_classes": [],
            "_model_module": "@jupyter-widgets/controls",
            "_model_module_version": "1.5.0",
            "_model_name": "HTMLModel",
            "_view_count": null,
            "_view_module": "@jupyter-widgets/controls",
            "_view_module_version": "1.5.0",
            "_view_name": "HTMLView",
            "description": "",
            "description_tooltip": null,
            "layout": "IPY_MODEL_dd17bffff1a24b71b1e76de83ee98b7d",
            "placeholder": "​",
            "style": "IPY_MODEL_c3c7cb533c874999884436c22e047097",
            "value": "100%"
          }
        },
        "187fa42df5184c7c89979394558f314b": {
          "model_module": "@jupyter-widgets/controls",
          "model_name": "FloatProgressModel",
          "model_module_version": "1.5.0",
          "state": {
            "_dom_classes": [],
            "_model_module": "@jupyter-widgets/controls",
            "_model_module_version": "1.5.0",
            "_model_name": "FloatProgressModel",
            "_view_count": null,
            "_view_module": "@jupyter-widgets/controls",
            "_view_module_version": "1.5.0",
            "_view_name": "ProgressView",
            "bar_style": "success",
            "description": "",
            "description_tooltip": null,
            "layout": "IPY_MODEL_2abf65947f6b473b82a47bedc4a883ce",
            "max": 20,
            "min": 0,
            "orientation": "horizontal",
            "style": "IPY_MODEL_a28ff46bba6d498a9023c109427a85fd",
            "value": 20
          }
        },
        "907959aa7d6e43bfa9f771fadf2b4d92": {
          "model_module": "@jupyter-widgets/controls",
          "model_name": "HTMLModel",
          "model_module_version": "1.5.0",
          "state": {
            "_dom_classes": [],
            "_model_module": "@jupyter-widgets/controls",
            "_model_module_version": "1.5.0",
            "_model_name": "HTMLModel",
            "_view_count": null,
            "_view_module": "@jupyter-widgets/controls",
            "_view_module_version": "1.5.0",
            "_view_name": "HTMLView",
            "description": "",
            "description_tooltip": null,
            "layout": "IPY_MODEL_8585474915f7455aa3ec342ee4b4673d",
            "placeholder": "​",
            "style": "IPY_MODEL_0bc44bea26514aba89b6535d3da5d1f1",
            "value": " 20/20 [17:16&lt;00:00, 51.97s/it]"
          }
        },
        "736f318e10554c4c93aad10cac0062d7": {
          "model_module": "@jupyter-widgets/base",
          "model_name": "LayoutModel",
          "model_module_version": "1.2.0",
          "state": {
            "_model_module": "@jupyter-widgets/base",
            "_model_module_version": "1.2.0",
            "_model_name": "LayoutModel",
            "_view_count": null,
            "_view_module": "@jupyter-widgets/base",
            "_view_module_version": "1.2.0",
            "_view_name": "LayoutView",
            "align_content": null,
            "align_items": null,
            "align_self": null,
            "border": null,
            "bottom": null,
            "display": null,
            "flex": null,
            "flex_flow": null,
            "grid_area": null,
            "grid_auto_columns": null,
            "grid_auto_flow": null,
            "grid_auto_rows": null,
            "grid_column": null,
            "grid_gap": null,
            "grid_row": null,
            "grid_template_areas": null,
            "grid_template_columns": null,
            "grid_template_rows": null,
            "height": null,
            "justify_content": null,
            "justify_items": null,
            "left": null,
            "margin": null,
            "max_height": null,
            "max_width": null,
            "min_height": null,
            "min_width": null,
            "object_fit": null,
            "object_position": null,
            "order": null,
            "overflow": null,
            "overflow_x": null,
            "overflow_y": null,
            "padding": null,
            "right": null,
            "top": null,
            "visibility": null,
            "width": null
          }
        },
        "dd17bffff1a24b71b1e76de83ee98b7d": {
          "model_module": "@jupyter-widgets/base",
          "model_name": "LayoutModel",
          "model_module_version": "1.2.0",
          "state": {
            "_model_module": "@jupyter-widgets/base",
            "_model_module_version": "1.2.0",
            "_model_name": "LayoutModel",
            "_view_count": null,
            "_view_module": "@jupyter-widgets/base",
            "_view_module_version": "1.2.0",
            "_view_name": "LayoutView",
            "align_content": null,
            "align_items": null,
            "align_self": null,
            "border": null,
            "bottom": null,
            "display": null,
            "flex": null,
            "flex_flow": null,
            "grid_area": null,
            "grid_auto_columns": null,
            "grid_auto_flow": null,
            "grid_auto_rows": null,
            "grid_column": null,
            "grid_gap": null,
            "grid_row": null,
            "grid_template_areas": null,
            "grid_template_columns": null,
            "grid_template_rows": null,
            "height": null,
            "justify_content": null,
            "justify_items": null,
            "left": null,
            "margin": null,
            "max_height": null,
            "max_width": null,
            "min_height": null,
            "min_width": null,
            "object_fit": null,
            "object_position": null,
            "order": null,
            "overflow": null,
            "overflow_x": null,
            "overflow_y": null,
            "padding": null,
            "right": null,
            "top": null,
            "visibility": null,
            "width": null
          }
        },
        "c3c7cb533c874999884436c22e047097": {
          "model_module": "@jupyter-widgets/controls",
          "model_name": "DescriptionStyleModel",
          "model_module_version": "1.5.0",
          "state": {
            "_model_module": "@jupyter-widgets/controls",
            "_model_module_version": "1.5.0",
            "_model_name": "DescriptionStyleModel",
            "_view_count": null,
            "_view_module": "@jupyter-widgets/base",
            "_view_module_version": "1.2.0",
            "_view_name": "StyleView",
            "description_width": ""
          }
        },
        "2abf65947f6b473b82a47bedc4a883ce": {
          "model_module": "@jupyter-widgets/base",
          "model_name": "LayoutModel",
          "model_module_version": "1.2.0",
          "state": {
            "_model_module": "@jupyter-widgets/base",
            "_model_module_version": "1.2.0",
            "_model_name": "LayoutModel",
            "_view_count": null,
            "_view_module": "@jupyter-widgets/base",
            "_view_module_version": "1.2.0",
            "_view_name": "LayoutView",
            "align_content": null,
            "align_items": null,
            "align_self": null,
            "border": null,
            "bottom": null,
            "display": null,
            "flex": null,
            "flex_flow": null,
            "grid_area": null,
            "grid_auto_columns": null,
            "grid_auto_flow": null,
            "grid_auto_rows": null,
            "grid_column": null,
            "grid_gap": null,
            "grid_row": null,
            "grid_template_areas": null,
            "grid_template_columns": null,
            "grid_template_rows": null,
            "height": null,
            "justify_content": null,
            "justify_items": null,
            "left": null,
            "margin": null,
            "max_height": null,
            "max_width": null,
            "min_height": null,
            "min_width": null,
            "object_fit": null,
            "object_position": null,
            "order": null,
            "overflow": null,
            "overflow_x": null,
            "overflow_y": null,
            "padding": null,
            "right": null,
            "top": null,
            "visibility": null,
            "width": null
          }
        },
        "a28ff46bba6d498a9023c109427a85fd": {
          "model_module": "@jupyter-widgets/controls",
          "model_name": "ProgressStyleModel",
          "model_module_version": "1.5.0",
          "state": {
            "_model_module": "@jupyter-widgets/controls",
            "_model_module_version": "1.5.0",
            "_model_name": "ProgressStyleModel",
            "_view_count": null,
            "_view_module": "@jupyter-widgets/base",
            "_view_module_version": "1.2.0",
            "_view_name": "StyleView",
            "bar_color": null,
            "description_width": ""
          }
        },
        "8585474915f7455aa3ec342ee4b4673d": {
          "model_module": "@jupyter-widgets/base",
          "model_name": "LayoutModel",
          "model_module_version": "1.2.0",
          "state": {
            "_model_module": "@jupyter-widgets/base",
            "_model_module_version": "1.2.0",
            "_model_name": "LayoutModel",
            "_view_count": null,
            "_view_module": "@jupyter-widgets/base",
            "_view_module_version": "1.2.0",
            "_view_name": "LayoutView",
            "align_content": null,
            "align_items": null,
            "align_self": null,
            "border": null,
            "bottom": null,
            "display": null,
            "flex": null,
            "flex_flow": null,
            "grid_area": null,
            "grid_auto_columns": null,
            "grid_auto_flow": null,
            "grid_auto_rows": null,
            "grid_column": null,
            "grid_gap": null,
            "grid_row": null,
            "grid_template_areas": null,
            "grid_template_columns": null,
            "grid_template_rows": null,
            "height": null,
            "justify_content": null,
            "justify_items": null,
            "left": null,
            "margin": null,
            "max_height": null,
            "max_width": null,
            "min_height": null,
            "min_width": null,
            "object_fit": null,
            "object_position": null,
            "order": null,
            "overflow": null,
            "overflow_x": null,
            "overflow_y": null,
            "padding": null,
            "right": null,
            "top": null,
            "visibility": null,
            "width": null
          }
        },
        "0bc44bea26514aba89b6535d3da5d1f1": {
          "model_module": "@jupyter-widgets/controls",
          "model_name": "DescriptionStyleModel",
          "model_module_version": "1.5.0",
          "state": {
            "_model_module": "@jupyter-widgets/controls",
            "_model_module_version": "1.5.0",
            "_model_name": "DescriptionStyleModel",
            "_view_count": null,
            "_view_module": "@jupyter-widgets/base",
            "_view_module_version": "1.2.0",
            "_view_name": "StyleView",
            "description_width": ""
          }
        }
      }
    }
  },
  "nbformat": 4,
  "nbformat_minor": 0
}